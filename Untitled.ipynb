{
 "cells": [
  {
   "cell_type": "code",
   "execution_count": 1,
   "id": "d33db254",
   "metadata": {
    "scrolled": true
   },
   "outputs": [
    {
     "name": "stdout",
     "output_type": "stream",
     "text": [
      "Collecting cvzone\n",
      "  Downloading cvzone-1.5.6.tar.gz (12 kB)\n",
      "  Preparing metadata (setup.py) ... \u001b[?25ldone\n",
      "\u001b[?25hRequirement already satisfied: opencv-python in /Users/harsh/opt/anaconda3/lib/python3.9/site-packages (from cvzone) (4.7.0.72)\n",
      "Requirement already satisfied: numpy in /Users/harsh/opt/anaconda3/lib/python3.9/site-packages (from cvzone) (1.22.4)\n",
      "Building wheels for collected packages: cvzone\n",
      "  Building wheel for cvzone (setup.py) ... \u001b[?25ldone\n",
      "\u001b[?25h  Created wheel for cvzone: filename=cvzone-1.5.6-py3-none-any.whl size=18750 sha256=65278eb2e35b892e6d3ab4e53974874a4995a659d02c7b680033032c3d0d72a8\n",
      "  Stored in directory: /Users/harsh/Library/Caches/pip/wheels/6f/ec/e5/c576c2f2fa138207498bbbfc8eefb1f0a2efbba7c847742948\n",
      "Successfully built cvzone\n",
      "Installing collected packages: cvzone\n",
      "Successfully installed cvzone-1.5.6\n"
     ]
    }
   ],
   "source": [
    "!pip install cvzone"
   ]
  },
  {
   "cell_type": "code",
   "execution_count": 2,
   "id": "1cae0edc",
   "metadata": {},
   "outputs": [],
   "source": []
  },
  {
   "cell_type": "code",
   "execution_count": 123,
   "id": "4a49d1e4",
   "metadata": {},
   "outputs": [
    {
     "data": {
      "text/plain": [
       "<function destroyAllWindows>"
      ]
     },
     "execution_count": 123,
     "metadata": {},
     "output_type": "execute_result"
    }
   ],
   "source": [
    "# import os \n",
    "# import cv2 \n",
    "# cap = cv2.VideoCapture(0)\n",
    "# cap.set(3,640)\n",
    "# cap.set(4,480)\n",
    "\n",
    "# #  importing the mode images \n",
    "\n",
    "# folder_Mode_path = '/Users/harsh/Desktop/computer_vision/Facial Recognition/Files/Resources/Modes'\n",
    "# mode_path_list = os.listdir(folder_Mode_path)\n",
    "\n",
    "# img_modes = []\n",
    "# for path in mode_path_list:\n",
    "#     img_modes.append(cv2.imread(os.path.join(folder_Mode_path,path)))\n",
    "    \n",
    "# #  importing background images \n",
    "# img_background = cv2.imread('Files/Resources/background.png')\n",
    "\n",
    "# while cap.isOpened():\n",
    "#     ret ,frame = cap.read()\n",
    "#     img_background[162:162+480,55:55+640] = frame\n",
    "#     img_background[44:44+633,808:808+414] = img_modes[1]\n",
    "    \n",
    "#     cv2.imshow('Face Attendance',img_background)\n",
    "    \n",
    "#     if cv2.waitKey(1) & 0XFF == ord('q'):\n",
    "#         break\n",
    "# cap.release()\n",
    "# cv2.destroyAllWindows"
   ]
  },
  {
   "cell_type": "code",
   "execution_count": 7,
   "id": "98b14458",
   "metadata": {},
   "outputs": [],
   "source": [
    "cap.release()"
   ]
  },
  {
   "cell_type": "code",
   "execution_count": 62,
   "id": "49a28b20",
   "metadata": {},
   "outputs": [],
   "source": [
    "import face_recognition\n",
    "import pickle\n",
    "import os\n",
    "import cv2"
   ]
  },
  {
   "cell_type": "code",
   "execution_count": 63,
   "id": "7e040df2",
   "metadata": {},
   "outputs": [],
   "source": [
    "# import students images \n",
    "\n",
    "folder_path = \"/Users/harsh/Desktop/computer_vision/Facial Recognition/Files/Images\"\n",
    "path_list = os.listdir(folder_path)\n",
    "img_list =[]\n",
    "students_ID = []\n",
    "for path in path_list:\n",
    "    img_list.append(cv2.imread(os.path.join(folder_path,path)))\n",
    "    students_ID.append(os.path.splitext(path)[0])\n",
    "del img_list[1]\n",
    "del students_ID[1]"
   ]
  },
  {
   "cell_type": "code",
   "execution_count": 64,
   "id": "bf55d3b9",
   "metadata": {},
   "outputs": [
    {
     "data": {
      "text/plain": [
       "['12117019.png', '.DS_Store', '12114032.png', '12114054.png']"
      ]
     },
     "execution_count": 64,
     "metadata": {},
     "output_type": "execute_result"
    }
   ],
   "source": [
    "head_path = \"/Users/harsh/Desktop/computer_vision/Facial Recognition/Files/head_img\"\n",
    "head_path_list = os.listdir(head_path)\n",
    "head_img = []\n",
    "for path in head_path_list:\n",
    "    head_img.append(cv2.imread(os.path.join(head_path,path)))\n",
    "len(head_img)\n",
    "head_path_list"
   ]
  },
  {
   "cell_type": "code",
   "execution_count": 65,
   "id": "d5876a43",
   "metadata": {},
   "outputs": [],
   "source": [
    "import matplotlib.pyplot as plt"
   ]
  },
  {
   "cell_type": "code",
   "execution_count": 66,
   "id": "00de8a22",
   "metadata": {},
   "outputs": [
    {
     "data": {
      "text/plain": [
       "3"
      ]
     },
     "execution_count": 66,
     "metadata": {},
     "output_type": "execute_result"
    }
   ],
   "source": [
    "len(img_list)"
   ]
  },
  {
   "cell_type": "code",
   "execution_count": 67,
   "id": "2baeeb80",
   "metadata": {},
   "outputs": [
    {
     "data": {
      "text/plain": [
       "['12117019', '12114032', '12114054']"
      ]
     },
     "execution_count": 67,
     "metadata": {},
     "output_type": "execute_result"
    }
   ],
   "source": [
    "students_ID"
   ]
  },
  {
   "cell_type": "code",
   "execution_count": 68,
   "id": "3b7f9eb3",
   "metadata": {},
   "outputs": [],
   "source": [
    "def Find_Encodings(imagesList):\n",
    "    encodeList = []\n",
    "    for img in imagesList:\n",
    "        img = cv2.cvtColor(img , cv2.COLOR_BGR2RGB)\n",
    "        encode = face_recognition.face_encodings(img)[0]\n",
    "        encodeList.append(encode)\n",
    "        \n",
    "    return encodeList\n",
    "        "
   ]
  },
  {
   "cell_type": "code",
   "execution_count": 69,
   "id": "8d4fb5ea",
   "metadata": {},
   "outputs": [
    {
     "name": "stdout",
     "output_type": "stream",
     "text": [
      "Encoding Start...\n",
      "Encoding completed...\n"
     ]
    }
   ],
   "source": [
    "print(\"Encoding Start...\")\n",
    "encode_list_known = Find_Encodings(img_list)\n",
    "encode_list_known_ids = [encode_list_known,students_ID]\n",
    "print(\"Encoding completed...\")"
   ]
  },
  {
   "cell_type": "code",
   "execution_count": 70,
   "id": "664c51ad",
   "metadata": {},
   "outputs": [
    {
     "data": {
      "text/plain": [
       "3"
      ]
     },
     "execution_count": 70,
     "metadata": {},
     "output_type": "execute_result"
    }
   ],
   "source": [
    "len(encode_list_known_ids[1])"
   ]
  },
  {
   "cell_type": "code",
   "execution_count": 71,
   "id": "99cdb872",
   "metadata": {},
   "outputs": [
    {
     "name": "stdout",
     "output_type": "stream",
     "text": [
      "File Saved...\n"
     ]
    }
   ],
   "source": [
    "file = open(\"EncodeFile_harhsit.p\", 'wb')\n",
    "pickle.dump (encode_list_known_ids,file)\n",
    "file.close ()\n",
    "print (\"File Saved...\")"
   ]
  },
  {
   "cell_type": "code",
   "execution_count": 72,
   "id": "8b97eb17",
   "metadata": {},
   "outputs": [],
   "source": [
    "data = {\n",
    "    \"12114032\":\n",
    "        {\n",
    "            \"name\": \"Harshit\",\n",
    "            \"major\": \"AI\",\n",
    "            \"starting_year\": 2021,\n",
    "            \"total_attendance\": 7,\n",
    "            \"standing\": \"G\",\n",
    "            \"year\": 4,\n",
    "            \"last_attendance_time\": \"2022-12-11 00:54:34\"\n",
    "        },\n",
    "    \"12114054\":\n",
    "        {\n",
    "            \"name\": \"Niraj Gupta\",\n",
    "            \"major\": \"EE\",\n",
    "            \"starting_year\": 2021,\n",
    "            \"total_attendance\": 12,\n",
    "            \"standing\": \"B\",\n",
    "            \"year\": 1,\n",
    "            \"last_attendance_time\": \"2022-12-11 00:54:34\"\n",
    "        },\n",
    "    \"12117019\":\n",
    "        {\n",
    "            \"name\": \"Ankita Chodhary\",\n",
    "            \"major\": \"PIE\",\n",
    "            \"starting_year\": 2021,\n",
    "            \"total_attendance\": 7,\n",
    "            \"standing\": \"G\",\n",
    "            \"year\": 2,\n",
    "            \"last_attendance_time\": \"2022-12-11 00:54:34\"\n",
    "        }\n",
    "}\n"
   ]
  },
  {
   "cell_type": "code",
   "execution_count": 73,
   "id": "e4eeb0dc",
   "metadata": {},
   "outputs": [
    {
     "data": {
      "text/plain": [
       "{'name': 'Harshit',\n",
       " 'major': 'AI',\n",
       " 'starting_year': 2021,\n",
       " 'total_attendance': 7,\n",
       " 'standing': 'G',\n",
       " 'year': 4,\n",
       " 'last_attendance_time': '2022-12-11 00:54:34'}"
      ]
     },
     "execution_count": 73,
     "metadata": {},
     "output_type": "execute_result"
    }
   ],
   "source": [
    "data['12114032']"
   ]
  },
  {
   "cell_type": "code",
   "execution_count": 74,
   "id": "c9d272f5",
   "metadata": {},
   "outputs": [],
   "source": [
    "import numpy as np\n",
    "import cvzone"
   ]
  },
  {
   "cell_type": "code",
   "execution_count": 76,
   "id": "7ab7a2d4",
   "metadata": {},
   "outputs": [
    {
     "data": {
      "text/plain": [
       "<function destroyAllWindows>"
      ]
     },
     "execution_count": 76,
     "metadata": {},
     "output_type": "execute_result"
    }
   ],
   "source": [
    "import os \n",
    "import cv2 \n",
    "cap = cv2.VideoCapture(0)\n",
    "cap.set(3,640)\n",
    "cap.set(4,480)\n",
    "\n",
    "#  importing the mode images \n",
    "\n",
    "folder_Mode_path = '/Users/harsh/Desktop/computer_vision/Facial Recognition/Files/Resources/Modes'\n",
    "mode_path_list = os.listdir(folder_Mode_path)\n",
    "\n",
    "img_modes = []\n",
    "for path in mode_path_list:\n",
    "    img_modes.append(cv2.imread(os.path.join(folder_Mode_path,path)))\n",
    "    \n",
    "#  importing background images \n",
    "img_background = cv2.imread('Files/Resources/background.png')\n",
    "\n",
    "\n",
    "#   load encoding file\n",
    "file = open(\"EncodeFile_harhsit.p\",'rb')\n",
    "encodeListKnownwithIds = pickle.load(file)\n",
    "file.close()\n",
    "encodeListKnown, studentIds = encodeListKnownwithIds\n",
    "# print(studentIds)\n",
    "\n",
    "modeType = 3\n",
    "counter = 0\n",
    "stu_id = -1\n",
    "img_student = []\n",
    "while cap.isOpened():\n",
    "    ret ,frame = cap.read()\n",
    "    \n",
    "    frameS = cv2.resize(frame,(0,0),None,0.25,0.25)\n",
    "    frameS = cv2.cvtColor(frameS , cv2.COLOR_BGR2RGB)\n",
    "    faceCurrFrame = face_recognition.face_locations(frameS)\n",
    "    encodeCurrFame = face_recognition.face_encodings(frameS,faceCurrFrame)\n",
    "    \n",
    "    \n",
    "    \n",
    "    img_background[162:162+480,55:55+640] = frame\n",
    "        \n",
    "    img_background[44:44+633,808:808+414] = img_modes[modeType]\n",
    "    \n",
    "    for encodeFace,faceloc in zip(encodeCurrFame,faceCurrFrame):\n",
    "        matches = face_recognition.compare_faces(encodeListKnown,encodeFace)\n",
    "        faceDis = face_recognition.face_distance(encodeListKnown,encodeFace)\n",
    "#         print(\"matches\",matches)\n",
    "#         print(\"face Dist\",faceDis)\n",
    "    \n",
    "        matchIndex = np.argmin(faceDis)\n",
    "        \n",
    "        if matches[matchIndex]:\n",
    "#             print(studentIds[matchIndex])\n",
    "            stu_id = studentIds[matchIndex]\n",
    "            \n",
    "            y1,x2,y2,x1 = faceloc\n",
    "            y1,x2,y2,x1 = y1*4,x2*4,y2*4,x1*4\n",
    "            bbox = 55 + x1, 162 + y1, x2 - x1, y2 - y1\n",
    "            img_background = cvzone.cornerRect(img_background,bbox,rt=0)\n",
    "            \n",
    "            if counter ==0:\n",
    "                counter =1\n",
    "                modeType =1\n",
    "                \n",
    "    if counter!=0:\n",
    "        \n",
    "        if counter==1:\n",
    "            studentInfo = data[stu_id]\n",
    "            studentInfo['total_attendance']+=1\n",
    "            \n",
    "        \n",
    "        if 30< counter<60:\n",
    "            modeType = 2\n",
    "        \n",
    "        img_background[44:44+633,808:808+414] = img_modes[modeType]\n",
    "            \n",
    "        \n",
    "        if counter<=30:\n",
    "            cv2.putText(img_background,str(studentInfo['total_attendance']),(861, 125),cv2.FONT_HERSHEY_COMPLEX, 1, (0, 0,0) ,1)\n",
    "    #         cv2.putText(img_background,str(studentInfo['name']),(950, 445),cv2.FONT_HERSHEY_COMPLEX, 1, (0, 0,0) ,1)\n",
    "            cv2.putText(img_background,str(studentInfo['major']),(1006, 550),cv2.FONT_HERSHEY_COMPLEX, 0.5, (0, 0,0) ,1)\n",
    "            cv2.putText(img_background,str(stu_id),(1006, 493),cv2.FONT_HERSHEY_COMPLEX, 0.5, (0, 0,0) ,1)\n",
    "            cv2.putText(img_background,str(studentInfo['standing']),(910, 625),cv2.FONT_HERSHEY_COMPLEX, 0.5, (0, 0,0) ,1)\n",
    "            cv2.putText(img_background,str(studentInfo['year']),(1025, 625),cv2.FONT_HERSHEY_COMPLEX, 0.5, (0, 0,0) ,1)\n",
    "            cv2.putText(img_background,str(studentInfo['starting_year']),(1125, 625),cv2.FONT_HERSHEY_COMPLEX, 0.5, (0, 0,0) ,1)\n",
    "\n",
    "            (w, h), _ = cv2.getTextSize(studentInfo['name'], cv2.FONT_HERSHEY_COMPLEX, 1, 1)\n",
    "            offset = (414 - w) // 2\n",
    "            cv2.putText(img_background, str(studentInfo['name']), (808 + offset, 445),\n",
    "                        cv2.FONT_HERSHEY_COMPLEX, 1, (50, 50, 50), 1)\n",
    "            img_student = cv2.imread(os.path.join(head_path,stu_id+\".png\"))\n",
    "            img_student = cv2.resize(img_student, (216, 216), fx = 1, fy = 1)\n",
    "            img_background[175:175+216,909:909+216] =  img_student\n",
    "\n",
    "        counter+=1\n",
    "        \n",
    "        if counter>=60:\n",
    "            counter=0\n",
    "            modeType=0\n",
    "            studentInfo=[]\n",
    "            img_student=[]\n",
    "            img_background[44:44+633,808:808+414] = img_modes[modeType]\n",
    "            \n",
    "        \n",
    "        \n",
    "    cv2.imshow('Face Attendance',img_background)\n",
    "    \n",
    "    if cv2.waitKey(1) & 0XFF == ord('q'):\n",
    "        break\n",
    "cap.release()\n",
    "cv2.destroyAllWindows"
   ]
  },
  {
   "cell_type": "code",
   "execution_count": 39,
   "id": "360ccea0",
   "metadata": {},
   "outputs": [],
   "source": [
    "info = data['12114032']"
   ]
  },
  {
   "cell_type": "code",
   "execution_count": 55,
   "id": "f91b89df",
   "metadata": {},
   "outputs": [],
   "source": [
    "info['total_attendance'] = info['total_attendance']+1"
   ]
  },
  {
   "cell_type": "code",
   "execution_count": 56,
   "id": "6338bf44",
   "metadata": {},
   "outputs": [
    {
     "data": {
      "text/plain": [
       "10"
      ]
     },
     "execution_count": 56,
     "metadata": {},
     "output_type": "execute_result"
    }
   ],
   "source": [
    "info['total_attendance']"
   ]
  },
  {
   "cell_type": "code",
   "execution_count": null,
   "id": "475a8b4c",
   "metadata": {},
   "outputs": [],
   "source": []
  },
  {
   "cell_type": "code",
   "execution_count": null,
   "id": "ac5dae77",
   "metadata": {},
   "outputs": [],
   "source": []
  }
 ],
 "metadata": {
  "kernelspec": {
   "display_name": "Python 3 (ipykernel)",
   "language": "python",
   "name": "python3"
  },
  "language_info": {
   "codemirror_mode": {
    "name": "ipython",
    "version": 3
   },
   "file_extension": ".py",
   "mimetype": "text/x-python",
   "name": "python",
   "nbconvert_exporter": "python",
   "pygments_lexer": "ipython3",
   "version": "3.9.12"
  }
 },
 "nbformat": 4,
 "nbformat_minor": 5
}
